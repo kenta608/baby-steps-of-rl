{
 "cells": [
  {
   "cell_type": "markdown",
   "metadata": {},
   "source": [
    "# Day4 強化学習に対するニューラルネットワークの適用\n",
    "\n",
    "## 初めに\n",
    "`xvfb-run -s \"-screen 0 1400x900x24\" jupyter lab`でjupyter labを起動してください\n",
    "\n",
    "## TODO: Tensorboardを使った可視化\n",
    "\n",
    "## Policy Gradient\n",
    "\n",
    "Deepの構造\n",
    "* 3層のMLP\n",
    "* Input: 状態, Output: "
   ]
  },
  {
   "cell_type": "code",
   "execution_count": 1,
   "metadata": {},
   "outputs": [
    {
     "name": "stderr",
     "output_type": "stream",
     "text": [
      "2022-11-17 15:16:21.449179: I tensorflow/core/platform/cpu_feature_guard.cc:142] Your CPU supports instructions that this TensorFlow binary was not compiled to use: AVX2 AVX512F FMA\n",
      "2022-11-17 15:16:21.498700: I tensorflow/core/platform/profile_utils/cpu_utils.cc:94] CPU Frequency: 2100000000 Hz\n",
      "2022-11-17 15:16:21.503335: I tensorflow/compiler/xla/service/service.cc:168] XLA service 0x55e60e904f60 executing computations on platform Host. Devices:\n",
      "2022-11-17 15:16:21.503361: I tensorflow/compiler/xla/service/service.cc:175]   StreamExecutor device (0): <undefined>, <undefined>\n",
      "2022-11-17 15:16:21.505621: I tensorflow/stream_executor/platform/default/dso_loader.cc:42] Successfully opened dynamic library libcuda.so.1\n",
      "2022-11-17 15:16:21.925616: I tensorflow/compiler/xla/service/service.cc:168] XLA service 0x55e60fc44440 executing computations on platform CUDA. Devices:\n",
      "2022-11-17 15:16:21.925647: I tensorflow/compiler/xla/service/service.cc:175]   StreamExecutor device (0): Tesla V100-PCIE-32GB, Compute Capability 7.0\n",
      "2022-11-17 15:16:21.925652: I tensorflow/compiler/xla/service/service.cc:175]   StreamExecutor device (1): Tesla V100-PCIE-32GB, Compute Capability 7.0\n",
      "2022-11-17 15:16:21.925656: I tensorflow/compiler/xla/service/service.cc:175]   StreamExecutor device (2): Tesla V100-PCIE-32GB, Compute Capability 7.0\n",
      "2022-11-17 15:16:21.925660: I tensorflow/compiler/xla/service/service.cc:175]   StreamExecutor device (3): Tesla V100-PCIE-32GB, Compute Capability 7.0\n",
      "2022-11-17 15:16:21.940042: I tensorflow/core/common_runtime/gpu/gpu_device.cc:1640] Found device 0 with properties: \n",
      "name: Tesla V100-PCIE-32GB major: 7 minor: 0 memoryClockRate(GHz): 1.38\n",
      "pciBusID: 0000:3d:00.0\n",
      "2022-11-17 15:16:21.941143: I tensorflow/core/common_runtime/gpu/gpu_device.cc:1640] Found device 1 with properties: \n",
      "name: Tesla V100-PCIE-32GB major: 7 minor: 0 memoryClockRate(GHz): 1.38\n",
      "pciBusID: 0000:3e:00.0\n",
      "2022-11-17 15:16:21.942426: I tensorflow/core/common_runtime/gpu/gpu_device.cc:1640] Found device 2 with properties: \n",
      "name: Tesla V100-PCIE-32GB major: 7 minor: 0 memoryClockRate(GHz): 1.38\n",
      "pciBusID: 0000:88:00.0\n",
      "2022-11-17 15:16:21.943837: I tensorflow/core/common_runtime/gpu/gpu_device.cc:1640] Found device 3 with properties: \n",
      "name: Tesla V100-PCIE-32GB major: 7 minor: 0 memoryClockRate(GHz): 1.38\n",
      "pciBusID: 0000:89:00.0\n",
      "2022-11-17 15:16:21.944006: I tensorflow/stream_executor/platform/default/dso_loader.cc:53] Could not dlopen library 'libcudart.so.10.0'; dlerror: libcudart.so.10.0: cannot open shared object file: No such file or directory; LD_LIBRARY_PATH: /usr/local/cuda/lib64:\n",
      "2022-11-17 15:16:21.944067: I tensorflow/stream_executor/platform/default/dso_loader.cc:53] Could not dlopen library 'libcublas.so.10.0'; dlerror: libcublas.so.10.0: cannot open shared object file: No such file or directory; LD_LIBRARY_PATH: /usr/local/cuda/lib64:\n",
      "2022-11-17 15:16:21.944121: I tensorflow/stream_executor/platform/default/dso_loader.cc:53] Could not dlopen library 'libcufft.so.10.0'; dlerror: libcufft.so.10.0: cannot open shared object file: No such file or directory; LD_LIBRARY_PATH: /usr/local/cuda/lib64:\n",
      "2022-11-17 15:16:21.944173: I tensorflow/stream_executor/platform/default/dso_loader.cc:53] Could not dlopen library 'libcurand.so.10.0'; dlerror: libcurand.so.10.0: cannot open shared object file: No such file or directory; LD_LIBRARY_PATH: /usr/local/cuda/lib64:\n",
      "2022-11-17 15:16:21.944224: I tensorflow/stream_executor/platform/default/dso_loader.cc:53] Could not dlopen library 'libcusolver.so.10.0'; dlerror: libcusolver.so.10.0: cannot open shared object file: No such file or directory; LD_LIBRARY_PATH: /usr/local/cuda/lib64:\n",
      "2022-11-17 15:16:21.944275: I tensorflow/stream_executor/platform/default/dso_loader.cc:53] Could not dlopen library 'libcusparse.so.10.0'; dlerror: libcusparse.so.10.0: cannot open shared object file: No such file or directory; LD_LIBRARY_PATH: /usr/local/cuda/lib64:\n",
      "2022-11-17 15:16:21.948589: I tensorflow/stream_executor/platform/default/dso_loader.cc:42] Successfully opened dynamic library libcudnn.so.7\n",
      "2022-11-17 15:16:21.948611: W tensorflow/core/common_runtime/gpu/gpu_device.cc:1663] Cannot dlopen some GPU libraries. Skipping registering GPU devices...\n",
      "2022-11-17 15:16:21.948648: I tensorflow/core/common_runtime/gpu/gpu_device.cc:1181] Device interconnect StreamExecutor with strength 1 edge matrix:\n",
      "2022-11-17 15:16:21.948656: I tensorflow/core/common_runtime/gpu/gpu_device.cc:1187]      0 1 2 3 \n",
      "2022-11-17 15:16:21.948661: I tensorflow/core/common_runtime/gpu/gpu_device.cc:1200] 0:   N Y Y Y \n",
      "2022-11-17 15:16:21.948664: I tensorflow/core/common_runtime/gpu/gpu_device.cc:1200] 1:   Y N Y Y \n",
      "2022-11-17 15:16:21.948668: I tensorflow/core/common_runtime/gpu/gpu_device.cc:1200] 2:   Y Y N Y \n",
      "2022-11-17 15:16:21.948671: I tensorflow/core/common_runtime/gpu/gpu_device.cc:1200] 3:   Y Y Y N \n"
     ]
    },
    {
     "data": {
      "text/plain": [
       "[name: \"/device:CPU:0\"\n",
       " device_type: \"CPU\"\n",
       " memory_limit: 268435456\n",
       " locality {\n",
       " }\n",
       " incarnation: 10895180284845897279,\n",
       " name: \"/device:XLA_CPU:0\"\n",
       " device_type: \"XLA_CPU\"\n",
       " memory_limit: 17179869184\n",
       " locality {\n",
       " }\n",
       " incarnation: 13717490565895819275\n",
       " physical_device_desc: \"device: XLA_CPU device\",\n",
       " name: \"/device:XLA_GPU:0\"\n",
       " device_type: \"XLA_GPU\"\n",
       " memory_limit: 17179869184\n",
       " locality {\n",
       " }\n",
       " incarnation: 12589015332473301225\n",
       " physical_device_desc: \"device: XLA_GPU device\",\n",
       " name: \"/device:XLA_GPU:1\"\n",
       " device_type: \"XLA_GPU\"\n",
       " memory_limit: 17179869184\n",
       " locality {\n",
       " }\n",
       " incarnation: 17410541924909056280\n",
       " physical_device_desc: \"device: XLA_GPU device\",\n",
       " name: \"/device:XLA_GPU:2\"\n",
       " device_type: \"XLA_GPU\"\n",
       " memory_limit: 17179869184\n",
       " locality {\n",
       " }\n",
       " incarnation: 13085264938972881942\n",
       " physical_device_desc: \"device: XLA_GPU device\",\n",
       " name: \"/device:XLA_GPU:3\"\n",
       " device_type: \"XLA_GPU\"\n",
       " memory_limit: 17179869184\n",
       " locality {\n",
       " }\n",
       " incarnation: 834618216711003079\n",
       " physical_device_desc: \"device: XLA_GPU device\"]"
      ]
     },
     "execution_count": 1,
     "metadata": {},
     "output_type": "execute_result"
    }
   ],
   "source": [
    "#TensorFlowがGPUを認識しているか確認\n",
    "from tensorflow.python.client import device_lib\n",
    "device_lib.list_local_devices()"
   ]
  },
  {
   "cell_type": "code",
   "execution_count": 2,
   "metadata": {},
   "outputs": [],
   "source": [
    "# import tensorflow as tf\n",
    "# config = tf.ConfigProto(\n",
    "#     gpu_options=tf.GPUOptions(\n",
    "#         visible_device_list=\"3\", # specify GPU number\n",
    "#         allow_growth=True\n",
    "#     )\n",
    "# )\n",
    "# sess = tf.Session(config=config)"
   ]
  },
  {
   "cell_type": "markdown",
   "metadata": {},
   "source": [
    "↑設定できない、ナニコレ"
   ]
  },
  {
   "cell_type": "code",
   "execution_count": 3,
   "metadata": {},
   "outputs": [
    {
     "name": "stderr",
     "output_type": "stream",
     "text": [
      "/home/kenta_suzuki/miniconda3/envs/rl-book/lib/python3.7/site-packages/sklearn/externals/joblib/__init__.py:15: DeprecationWarning: sklearn.externals.joblib is deprecated in 0.21 and will be removed in 0.23. Please import this functionality directly from joblib, which can be installed with: pip install joblib. If this warning is raised when loading pickled models, you may need to re-serialize those models with scikit-learn 0.21+.\n",
      "  warnings.warn(msg, category=DeprecationWarning)\n"
     ]
    }
   ],
   "source": [
    "import os\n",
    "import random\n",
    "import argparse\n",
    "import numpy as np\n",
    "import matplotlib.pyplot as plt\n",
    "%matplotlib inline\n",
    "from IPython import display\n",
    "from sklearn.preprocessing import StandardScaler\n",
    "from sklearn.externals import joblib\n",
    "import tensorflow as tf\n",
    "from tensorflow.python import keras as K\n",
    "import gym\n",
    "import sys\n",
    "sys.path.append(\"../FN\")\n",
    "from fn_framework import FNAgent, Trainer, Observer, Experience\n",
    "tf.compat.v1.disable_eager_execution()"
   ]
  },
  {
   "cell_type": "markdown",
   "metadata": {},
   "source": [
    "code4-20 agent定義"
   ]
  },
  {
   "cell_type": "code",
   "execution_count": 4,
   "metadata": {},
   "outputs": [],
   "source": [
    "class PolicyGradientAgent(FNAgent):\n",
    "\n",
    "    def __init__(self, actions):\n",
    "        # PolicyGradientAgent uses self policy (doesn't use eplision).\n",
    "        # 全て戦略に基づいて行動する (本当か？ epsilon=0にしただけだと、initialized=Falseの時にランダムに行動しない？)\n",
    "        # initializedがTrueになるタイミングは？ -> loadの時, initialize()が走った時\n",
    "        # episode_endの時にinitialize呼ばれる -> 最初のtrain_loopではinitializeがFalseのままでは?\n",
    "        super().__init__(epsilon=0.0, actions=actions)\n",
    "        self.estimate_probs = True\n",
    "        self.scaler = StandardScaler()\n",
    "        self._updater = None # パラメータ更新関数は後ほど定義するため、一旦None\n",
    "\n",
    "    # 学習モデル保存\n",
    "    def save(self, model_path):\n",
    "        super().save(model_path)\n",
    "        joblib.dump(self.scaler, self.scaler_path(model_path))\n",
    "\n",
    "    # agentの読み込み\n",
    "    @classmethod\n",
    "    def load(cls, env, model_path):\n",
    "        actions = list(range(env.action_space.n))\n",
    "\n",
    "        agent = cls(actions)\n",
    "        agent.model = K.models.load_model(model_path)\n",
    "        agent.initialized = True\n",
    "        agent.scaler = joblib.load(agent.scaler_path(model_path))\n",
    "        return agent\n",
    "\n",
    "    def scaler_path(self, model_path):\n",
    "        fname, _ = os.path.splitext(model_path)\n",
    "        fname += \"_scaler.pkl\"\n",
    "        return fname\n",
    "\n",
    "    # モデルの定義\n",
    "    def initialize(self, experiences, optimizer):\n",
    "        states = np.vstack([e.s for e in experiences])\n",
    "        feature_size = states.shape[1]\n",
    "        self.model = K.models.Sequential([\n",
    "            K.layers.Dense(10, activation=\"relu\", input_shape=(feature_size,)),\n",
    "            K.layers.Dense(10, activation=\"relu\"),\n",
    "            K.layers.Dense(len(self.actions), activation=\"softmax\")\n",
    "        ])\n",
    "        self.set_updater(optimizer)\n",
    "        self.scaler.fit(states)\n",
    "        self.initialized = True\n",
    "        print(\"Done initialization. From now, begin trainning!\")\n",
    "\n",
    "    # original lossの定義とパラメータ更新\n",
    "    # 図4-28参照\n",
    "    def set_updater(self, optimizer):\n",
    "        # pi_θ(a|s)の計算\n",
    "        actions = tf.compat.v1.placeholder(shape=(None), dtype=\"int32\")\n",
    "        rewards = tf.compat.v1.placeholder(shape=(None), dtype=\"float32\")\n",
    "        one_hot_actions = tf.one_hot(actions, len(self.actions), axis=1)\n",
    "        action_probs = self.model.output\n",
    "        selected_action_probs = tf.reduce_sum(one_hot_actions * action_probs, axis=1)\n",
    "\n",
    "        # log(pi_θ(a|s)) * Q(s, a)の計算\n",
    "        # 0だとlog値が計算できないので、値を制限\n",
    "        clipped = tf.clip_by_value(selected_action_probs, 1e-10, 1.0)\n",
    "        loss = - tf.math.log(clipped) * rewards\n",
    "        loss = tf.reduce_mean(loss)\n",
    "        # ▽の計算\n",
    "        updates = optimizer.get_updates(loss=loss, params=self.model.trainable_weights)\n",
    "        self._updater = K.backend.function(inputs=[self.model.input, actions, rewards],\n",
    "                                           outputs=[loss],\n",
    "                                           updates=updates)\n",
    "\n",
    "    def estimate(self, s):\n",
    "        normalized = self.scaler.transform(s)\n",
    "        # dqnの時とは違い、各行動に対する確率が出力される\n",
    "        action_probs = self.model.predict(normalized)[0]\n",
    "        return action_probs\n",
    "\n",
    "    def update(self, states, actions, rewards):\n",
    "        normalizeds = self.scaler.transform(states)\n",
    "        actions = np.array(actions)\n",
    "        rewards = np.array(rewards)\n",
    "        self._updater([normalizeds, actions, rewards])\n",
    "\n",
    "     # jupyter labで描画させるためにoverlap\n",
    "    def play(self, env, episode_count=1, render=True):\n",
    "        action_dic = {0: \"left\", 1: \"right\"}\n",
    "        for e in range(episode_count):\n",
    "            s = env.reset()\n",
    "            done = False\n",
    "            episode_reward = 0\n",
    "            cnt = 0\n",
    "            get_num = 0\n",
    "            play_num = 1\n",
    "            while not done:\n",
    "                # 毎回レンダリングすると遅くなるので最初の50回は毎回レンダリングし、その後は50回おきにする\n",
    "                if render and (cnt <= 50):\n",
    "                    env.render()\n",
    "                elif render and (cnt % 50 == 0) and (cnt > 50): \n",
    "                    env.render()\n",
    "                a = self.policy(s)\n",
    "                n_state, reward, done, info = env.step(a)\n",
    "                plt.title(f\"episode={e}, action={action_dic[a]}, done={done}, frame={cnt}\")\n",
    "                episode_reward += reward\n",
    "                s = n_state\n",
    "                cnt += 1\n",
    "            else:\n",
    "                print(\"Get reward {}.\".format(episode_reward))"
   ]
  },
  {
   "cell_type": "markdown",
   "metadata": {},
   "source": [
    "code4-21 CartPole用のobserver定義"
   ]
  },
  {
   "cell_type": "code",
   "execution_count": 5,
   "metadata": {},
   "outputs": [],
   "source": [
    "class CartPoleObserver(Observer):\n",
    "\n",
    "    def transform(self, state):\n",
    "        return np.array(state).reshape((1, -1))\n",
    "\n",
    "    # jupyter labで描画させるためにoverlap\n",
    "    def render(self):\n",
    "        # self._env.render(mode=\"rgb_array\")\n",
    "        plt.imshow(self._env.render(mode=\"rgb_array\"))\n",
    "        display.display(plt.gcf())\n",
    "        display.clear_output(wait=True)"
   ]
  },
  {
   "cell_type": "markdown",
   "metadata": {},
   "source": [
    "code4-22 Trainerの定義"
   ]
  },
  {
   "cell_type": "code",
   "execution_count": 6,
   "metadata": {},
   "outputs": [],
   "source": [
    "class PolicyGradientTrainer(Trainer):\n",
    "\n",
    "    def __init__(self, buffer_size=256, batch_size=32, gamma=0.9, report_interval=10, log_dir=\"\"):\n",
    "        super().__init__(buffer_size, batch_size, gamma, report_interval, log_dir)\n",
    "\n",
    "    def train(self, env, episode_count=220, initial_count=-1, render=False):\n",
    "        actions = list(range(env.action_space.n))\n",
    "        agent = PolicyGradientAgent(actions)\n",
    "        self.train_loop(env, agent, episode_count, initial_count, render)\n",
    "        return agent\n",
    "\n",
    "    def episode_begin(self, episode, agent):\n",
    "        if agent.initialized:\n",
    "            self.experiences = []\n",
    "\n",
    "    def make_batch(self, policy_experiences):\n",
    "        length = min(self.batch_size, len(policy_experiences))\n",
    "        batch = random.sample(policy_experiences, length)\n",
    "        states = np.vstack([e.s for e in batch])\n",
    "        actions = [e.a for e in batch]\n",
    "        rewards = [e.r for e in batch]\n",
    "        scaler = StandardScaler()\n",
    "        rewards = np.array(rewards).reshape((-1, 1))\n",
    "        rewards = scaler.fit_transform(rewards).flatten()\n",
    "        return states, actions, rewards\n",
    "\n",
    "    # 価値の更新\n",
    "    # モデルが学習するのはここ\n",
    "    def episode_end(self, episode, step_count, agent):\n",
    "        rewards = [e.r for e in self.get_recent(step_count)]\n",
    "        self.reward_log.append(sum(rewards))\n",
    "\n",
    "        if not agent.initialized:\n",
    "            if len(self.experiences) == self.buffer_size:\n",
    "                optimizer = K.optimizers.Adam(lr=0.01)\n",
    "                agent.initialize(self.experiences, optimizer)\n",
    "                self.training = True\n",
    "        else:\n",
    "            # 価値更新\n",
    "            policy_experiences = []\n",
    "            for t, e in enumerate(self.experiences):\n",
    "                s, a, r, n_s, d = e\n",
    "                # 割引現在価値: gammaで割り引く\n",
    "                d_r = [_r * (self.gamma ** i) for i, _r in enumerate(rewards[t:])]\n",
    "                d_r = sum(d_r)\n",
    "                d_e = Experience(s, a, d_r, n_s, d)\n",
    "                policy_experiences.append(d_e)\n",
    "\n",
    "            agent.update(*self.make_batch(policy_experiences))\n",
    "\n",
    "        if self.is_event(episode, self.report_interval):\n",
    "            recent_rewards = self.reward_log[-self.report_interval:]\n",
    "            self.logger.describe(\"reward\", recent_rewards, episode=episode)"
   ]
  },
  {
   "cell_type": "markdown",
   "metadata": {},
   "source": [
    "code4-23"
   ]
  },
  {
   "cell_type": "code",
   "execution_count": 7,
   "metadata": {},
   "outputs": [],
   "source": [
    "def main(play):\n",
    "    env = CartPoleObserver(gym.make(\"CartPole-v0\"))\n",
    "    trainer = PolicyGradientTrainer()\n",
    "    path = trainer.logger.path_of(\"policy_gradient_agent.h5\")\n",
    "\n",
    "    if play:\n",
    "        agent = PolicyGradientAgent.load(env, path)\n",
    "        agent.play(env)\n",
    "    else:\n",
    "        trained = trainer.train(env)\n",
    "        trainer.logger.plot(\"Rewards\", trainer.reward_log,\n",
    "                            trainer.report_interval)\n",
    "        trained.save(path)"
   ]
  },
  {
   "cell_type": "markdown",
   "metadata": {},
   "source": [
    "cnn使ってないので、学習は比較的早い（がかなり初期値によってばらつく、学習期間が短い or MLPの限界?）"
   ]
  },
  {
   "cell_type": "code",
   "execution_count": 8,
   "metadata": {},
   "outputs": [
    {
     "name": "stdout",
     "output_type": "stream",
     "text": [
      "WARNING:tensorflow:From /home/kenta_suzuki/miniconda3/envs/rl-book/lib/python3.7/site-packages/tensorflow/python/ops/init_ops.py:1251: calling VarianceScaling.__init__ (from tensorflow.python.ops.init_ops) with dtype is deprecated and will be removed in a future version.\n",
      "Instructions for updating:\n",
      "Call initializer instance with the dtype argument instead of passing it to the constructor\n",
      "WARNING:tensorflow:From /home/kenta_suzuki/miniconda3/envs/rl-book/lib/python3.7/site-packages/tensorflow/python/ops/math_grad.py:1250: add_dispatch_support.<locals>.wrapper (from tensorflow.python.ops.array_ops) is deprecated and will be removed in a future version.\n",
      "Instructions for updating:\n",
      "Use tf.where in 2.0, which has the same broadcast rule as np.where\n",
      "Done initialization. From now, begin trainning!\n"
     ]
    },
    {
     "name": "stderr",
     "output_type": "stream",
     "text": [
      "2022-11-17 15:16:22.710644: I tensorflow/core/common_runtime/gpu/gpu_device.cc:1640] Found device 0 with properties: \n",
      "name: Tesla V100-PCIE-32GB major: 7 minor: 0 memoryClockRate(GHz): 1.38\n",
      "pciBusID: 0000:3d:00.0\n",
      "2022-11-17 15:16:22.711756: I tensorflow/core/common_runtime/gpu/gpu_device.cc:1640] Found device 1 with properties: \n",
      "name: Tesla V100-PCIE-32GB major: 7 minor: 0 memoryClockRate(GHz): 1.38\n",
      "pciBusID: 0000:3e:00.0\n",
      "2022-11-17 15:16:22.712974: I tensorflow/core/common_runtime/gpu/gpu_device.cc:1640] Found device 2 with properties: \n",
      "name: Tesla V100-PCIE-32GB major: 7 minor: 0 memoryClockRate(GHz): 1.38\n",
      "pciBusID: 0000:88:00.0\n",
      "2022-11-17 15:16:22.714176: I tensorflow/core/common_runtime/gpu/gpu_device.cc:1640] Found device 3 with properties: \n",
      "name: Tesla V100-PCIE-32GB major: 7 minor: 0 memoryClockRate(GHz): 1.38\n",
      "pciBusID: 0000:89:00.0\n",
      "2022-11-17 15:16:22.714314: I tensorflow/stream_executor/platform/default/dso_loader.cc:53] Could not dlopen library 'libcudart.so.10.0'; dlerror: libcudart.so.10.0: cannot open shared object file: No such file or directory; LD_LIBRARY_PATH: /usr/local/cuda/lib64:\n",
      "2022-11-17 15:16:22.714375: I tensorflow/stream_executor/platform/default/dso_loader.cc:53] Could not dlopen library 'libcublas.so.10.0'; dlerror: libcublas.so.10.0: cannot open shared object file: No such file or directory; LD_LIBRARY_PATH: /usr/local/cuda/lib64:\n",
      "2022-11-17 15:16:22.714427: I tensorflow/stream_executor/platform/default/dso_loader.cc:53] Could not dlopen library 'libcufft.so.10.0'; dlerror: libcufft.so.10.0: cannot open shared object file: No such file or directory; LD_LIBRARY_PATH: /usr/local/cuda/lib64:\n",
      "2022-11-17 15:16:22.714478: I tensorflow/stream_executor/platform/default/dso_loader.cc:53] Could not dlopen library 'libcurand.so.10.0'; dlerror: libcurand.so.10.0: cannot open shared object file: No such file or directory; LD_LIBRARY_PATH: /usr/local/cuda/lib64:\n",
      "2022-11-17 15:16:22.714532: I tensorflow/stream_executor/platform/default/dso_loader.cc:53] Could not dlopen library 'libcusolver.so.10.0'; dlerror: libcusolver.so.10.0: cannot open shared object file: No such file or directory; LD_LIBRARY_PATH: /usr/local/cuda/lib64:\n",
      "2022-11-17 15:16:22.714606: I tensorflow/stream_executor/platform/default/dso_loader.cc:53] Could not dlopen library 'libcusparse.so.10.0'; dlerror: libcusparse.so.10.0: cannot open shared object file: No such file or directory; LD_LIBRARY_PATH: /usr/local/cuda/lib64:\n",
      "2022-11-17 15:16:22.714620: I tensorflow/stream_executor/platform/default/dso_loader.cc:42] Successfully opened dynamic library libcudnn.so.7\n",
      "2022-11-17 15:16:22.714625: W tensorflow/core/common_runtime/gpu/gpu_device.cc:1663] Cannot dlopen some GPU libraries. Skipping registering GPU devices...\n",
      "2022-11-17 15:16:22.714665: I tensorflow/core/common_runtime/gpu/gpu_device.cc:1181] Device interconnect StreamExecutor with strength 1 edge matrix:\n",
      "2022-11-17 15:16:22.714673: I tensorflow/core/common_runtime/gpu/gpu_device.cc:1187]      0 1 2 3 \n",
      "2022-11-17 15:16:22.714678: I tensorflow/core/common_runtime/gpu/gpu_device.cc:1200] 0:   N Y Y Y \n",
      "2022-11-17 15:16:22.714681: I tensorflow/core/common_runtime/gpu/gpu_device.cc:1200] 1:   Y N Y Y \n",
      "2022-11-17 15:16:22.714684: I tensorflow/core/common_runtime/gpu/gpu_device.cc:1200] 2:   Y Y N Y \n",
      "2022-11-17 15:16:22.714688: I tensorflow/core/common_runtime/gpu/gpu_device.cc:1200] 3:   Y Y Y N \n",
      "2022-11-17 15:16:22.763400: W tensorflow/compiler/jit/mark_for_compilation_pass.cc:1412] (One-time warning): Not using XLA:CPU for cluster because envvar TF_XLA_FLAGS=--tf_xla_cpu_global_jit was not set.  If you want XLA:CPU, either set that envvar, or use experimental_jit_scope to enable XLA:CPU.  To confirm that XLA is active, pass --vmodule=xla_compilation_cache=1 (as a proper command-line flag, not via TF_XLA_FLAGS) or set the envvar XLA_FLAGS=--xla_hlo_profile.\n"
     ]
    },
    {
     "name": "stdout",
     "output_type": "stream",
     "text": [
      "At episode 10, reward is 27.1 (+/-15.636)\n",
      "At episode 20, reward is 18.9 (+/-7.382)\n",
      "At episode 30, reward is 23.3 (+/-18.466)\n",
      "At episode 40, reward is 30.4 (+/-20.958)\n",
      "At episode 50, reward is 31.6 (+/-22.119)\n",
      "At episode 60, reward is 35.5 (+/-13.063)\n",
      "At episode 70, reward is 36.2 (+/-12.805)\n",
      "At episode 80, reward is 54.2 (+/-24.742)\n",
      "At episode 90, reward is 61.7 (+/-16.924)\n",
      "At episode 100, reward is 76.7 (+/-19.36)\n",
      "At episode 110, reward is 59.1 (+/-40.952)\n",
      "At episode 120, reward is 100.3 (+/-63.561)\n",
      "At episode 130, reward is 74.7 (+/-23.975)\n",
      "At episode 140, reward is 57.9 (+/-22.255)\n",
      "At episode 150, reward is 39.6 (+/-11.128)\n",
      "At episode 160, reward is 45.0 (+/-12.091)\n",
      "At episode 170, reward is 45.0 (+/-16.031)\n",
      "At episode 180, reward is 46.8 (+/-14.013)\n",
      "At episode 190, reward is 59.7 (+/-29.1)\n",
      "At episode 200, reward is 51.0 (+/-17.664)\n",
      "At episode 210, reward is 51.8 (+/-14.648)\n"
     ]
    },
    {
     "data": {
      "image/png": "[encoded data removed]",
      "text/plain": [
       "<Figure size 640x480 with 1 Axes>"
      ]
     },
     "metadata": {},
     "output_type": "display_data"
    }
   ],
   "source": [
    "if __name__ == \"__main__\":\n",
    "    parser = argparse.ArgumentParser(description=\"PG Agent\")\n",
    "    parser.add_argument(\"--play\", action=\"store_true\",\n",
    "                        help=\"play with trained model\")\n",
    "    # args=[]で学習, args=[\"--play\"]で学習したモデルで遊べる\n",
    "    args = parser.parse_args(args=[])\n",
    "    main(args.play)\n"
   ]
  },
  {
   "cell_type": "code",
   "execution_count": null,
   "metadata": {},
   "outputs": [],
   "source": []
  }
 ],
 "metadata": {
  "interpreter": {
   "hash": "37833f05d300d4440df5731c894ed8626520b175df0a9a96b8ab9ec7da84a4ab"
  },
  "kernelspec": {
   "display_name": "Python 3 (ipykernel)",
   "language": "python",
   "name": "python3"
  },
  "language_info": {
   "codemirror_mode": {
    "name": "ipython",
    "version": 3
   },
   "file_extension": ".py",
   "mimetype": "text/x-python",
   "name": "python",
   "nbconvert_exporter": "python",
   "pygments_lexer": "ipython3",
   "version": "3.7.0"
  }
 },
 "nbformat": 4,
 "nbformat_minor": 4
}
