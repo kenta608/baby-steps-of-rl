{
 "cells": [
  {
   "cell_type": "markdown",
   "metadata": {},
   "source": [
    "# Day4 強化学習に対するニューラルネットワークの適用"
   ]
  },
  {
   "cell_type": "markdown",
   "metadata": {},
   "source": [
    "code4-1"
   ]
  },
  {
   "cell_type": "code",
   "execution_count": 1,
   "metadata": {},
   "outputs": [
    {
     "name": "stdout",
     "output_type": "stream",
     "text": [
      "WARNING:tensorflow:From /home/kenta_suzuki/miniconda3/envs/rl-book/lib/python3.6/site-packages/tensorflow/python/ops/init_ops.py:1251: calling VarianceScaling.__init__ (from tensorflow.python.ops.init_ops) with dtype is deprecated and will be removed in a future version.\n",
      "Instructions for updating:\n",
      "Call initializer instance with the dtype argument instead of passing it to the constructor\n",
      "Weight shape is (2, 4)\n",
      "Bias shape is (4,)\n",
      "x is (1, 2) and y is (1, 4)\n"
     ]
    }
   ],
   "source": [
    "import numpy as np\n",
    "from tensorflow.python import keras as K\n",
    "\n",
    "# 1層のNN定義（入力次元が2)\n",
    "# seaquentialは複数層をまとめられる、今は全結合層一つのみ\n",
    "model = K.Sequential([K.layers.Dense(units=4, input_shape=((2, )))])\n",
    "\n",
    "weight, bias = model.layers[0].get_weights()\n",
    "print(f\"Weight shape is {weight.shape}\")\n",
    "print(f\"Bias shape is {bias.shape}\")\n",
    "\n",
    "# 最初の次元はデータ数に使われ、２つ目の次元が実際の行数になる？\n",
    "x = np.random.rand(1, 2)\n",
    "y = model.predict(x)\n",
    "print(f\"x is {x.shape} and y is {y.shape}\")"
   ]
  },
  {
   "cell_type": "markdown",
   "metadata": {},
   "source": [
    "code 4-3 複数データの場合の実装"
   ]
  },
  {
   "cell_type": "code",
   "execution_count": 2,
   "metadata": {},
   "outputs": [
    {
     "name": "stdout",
     "output_type": "stream",
     "text": [
      "(3, 4)\n"
     ]
    }
   ],
   "source": [
    "# 2-layer neural network\n",
    "model = K.Sequential([K.layers.Dense(units=4, input_shape=((2, )), activation=\"sigmoid\"), K.layers.Dense(units=4)])\n",
    "\n",
    "# Make Batch size 3 data (dimenstion of x is 2)\n",
    "batch = np.random.rand(3, 2)\n",
    "y = model.predict(batch)\n",
    "\n",
    "print(y.shape)"
   ]
  },
  {
   "cell_type": "markdown",
   "metadata": {},
   "source": [
    "code4-4 ボストン市の住宅価格の予測  \n",
    "【メモ】  \n",
    "softplus = $\\log(\\exp{\\bm{x}} + 1)$  \n",
    "ReLUに似てる関数"
   ]
  },
  {
   "cell_type": "code",
   "execution_count": 3,
   "metadata": {},
   "outputs": [
    {
     "data": {
      "image/png": "[encoded data removed]",
      "text/plain": [
       "<Figure size 432x288 with 1 Axes>"
      ]
     },
     "metadata": {
      "needs_background": "light"
     },
     "output_type": "display_data"
    }
   ],
   "source": [
    "from sklearn.model_selection import train_test_split\n",
    "from sklearn.datasets import load_boston\n",
    "import pandas as pd\n",
    "import matplotlib.pyplot as plt\n",
    "\n",
    "# softplus\n",
    "x = np.linspace(-5, 5, 100)\n",
    "y = np.log(np.exp(x) + 1)\n",
    "relu = x * (x > 0)\n",
    "\n",
    "plt.plot(x, y, color=\"blue\", label=\"softplus\")\n",
    "plt.plot(x, relu, color=\"orange\", linestyle=\"dashed\", label=\"ReLU\")\n",
    "plt.title(\"softplus\")\n",
    "plt.legend()\n",
    "plt.show()"
   ]
  },
  {
   "cell_type": "code",
   "execution_count": 4,
   "metadata": {},
   "outputs": [
    {
     "name": "stdout",
     "output_type": "stream",
     "text": [
      "Epoch 1/10\n",
      "339/339 [==============================] - 0s 271us/sample - loss: 166.1765\n",
      "Epoch 2/10\n",
      "339/339 [==============================] - 0s 26us/sample - loss: 66.6656\n",
      "Epoch 3/10\n",
      "339/339 [==============================] - 0s 25us/sample - loss: 37.2473\n",
      "Epoch 4/10\n",
      "339/339 [==============================] - 0s 24us/sample - loss: 22.9274\n",
      "Epoch 5/10\n",
      "339/339 [==============================] - 0s 26us/sample - loss: 23.6568\n",
      "Epoch 6/10\n",
      "339/339 [==============================] - 0s 261us/sample - loss: 18.5236\n",
      "Epoch 7/10\n",
      "339/339 [==============================] - 0s 25us/sample - loss: 30.8369\n",
      "Epoch 8/10\n",
      "339/339 [==============================] - 0s 25us/sample - loss: 29.3924\n",
      "Epoch 9/10\n",
      "339/339 [==============================] - 0s 25us/sample - loss: 22.4571\n",
      "Epoch 10/10\n",
      "339/339 [==============================] - 0s 24us/sample - loss: 23.6258\n"
     ]
    },
    {
     "data": {
      "image/png": "[encoded data removed]",
      "text/plain": [
       "<Figure size 432x288 with 1 Axes>"
      ]
     },
     "metadata": {
      "needs_background": "light"
     },
     "output_type": "display_data"
    }
   ],
   "source": [
    "\n",
    "dataset = load_boston()\n",
    "\n",
    "y = dataset.target\n",
    "x = dataset.data\n",
    "\n",
    "# About train : test = 7 : 3\n",
    "X_train, X_test, y_train, y_test = train_test_split(x, y, test_size=0.33)\n",
    "\n",
    "model = K.Sequential([\n",
    "    K.layers.BatchNormalization(input_shape=(13, )), # 13の特徴量の値全てを[0, 1]に\n",
    "    K.layers.Dense(units=13, activation=\"softplus\", kernel_regularizer=\"l1\"), # softplus, l1正則化\n",
    "    K.layers.Dense(units=1)\n",
    "])\n",
    "\n",
    "model.compile(loss=\"mean_squared_error\", optimizer=\"sgd\")\n",
    "model.fit(X_train, y_train, epochs=10)\n",
    "\n",
    "predicts = model.predict(X_test)\n",
    "result = pd.DataFrame({\n",
    "    \"predict\": np.reshape(predicts, (-1, )),\n",
    "    \"actual\": y_test\n",
    "})\n",
    "limit = np.max(y_test)\n",
    "result.plot.scatter(x=\"actual\", y=\"predict\", xlim=(0, limit), ylim=(0, limit))\n",
    "plt.show()"
   ]
  },
  {
   "cell_type": "code",
   "execution_count": null,
   "metadata": {},
   "outputs": [],
   "source": []
  }
 ],
 "metadata": {
  "interpreter": {
   "hash": "37833f05d300d4440df5731c894ed8626520b175df0a9a96b8ab9ec7da84a4ab"
  },
  "kernelspec": {
   "display_name": "Python 3.6.13 ('rl-book')",
   "language": "python",
   "name": "python3"
  },
  "language_info": {
   "codemirror_mode": {
    "name": "ipython",
    "version": 3
   },
   "file_extension": ".py",
   "mimetype": "text/x-python",
   "name": "python",
   "nbconvert_exporter": "python",
   "pygments_lexer": "ipython3",
   "version": "3.6.13"
  },
  "orig_nbformat": 4
 },
 "nbformat": 4,
 "nbformat_minor": 2
}
