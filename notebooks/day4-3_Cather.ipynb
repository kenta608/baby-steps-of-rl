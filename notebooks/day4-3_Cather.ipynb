{
 "cells": [
  {
   "cell_type": "markdown",
   "metadata": {},
   "source": [
    "# Day4 強化学習に対するニューラルネットワークの適用\n",
    "\n",
    "## TODO: Tensorboardを使った可視化"
   ]
  },
  {
   "cell_type": "markdown",
   "metadata": {},
   "source": [
    "## tensorflowでgpuを使う場合\n",
    "一度, tensorflowはuninstallし、tensorflow-gpuをinstallする\n",
    "\n",
    "```sh\n",
    "$ pip uninstall tensorflow tensorflow-estimator\n",
    "$ pip install tensorflow-gpu==1.14.0\n",
    "```"
   ]
  },
  {
   "cell_type": "code",
   "execution_count": 1,
   "metadata": {},
   "outputs": [
    {
     "name": "stderr",
     "output_type": "stream",
     "text": [
      "2022-11-24 22:56:10.537560: I tensorflow/core/platform/cpu_feature_guard.cc:142] Your CPU supports instructions that this TensorFlow binary was not compiled to use: AVX2 AVX512F FMA\n",
      "2022-11-24 22:56:10.586746: I tensorflow/core/platform/profile_utils/cpu_utils.cc:94] CPU Frequency: 2100000000 Hz\n",
      "2022-11-24 22:56:10.591345: I tensorflow/compiler/xla/service/service.cc:168] XLA service 0x55d81cbb1f60 executing computations on platform Host. Devices:\n",
      "2022-11-24 22:56:10.591386: I tensorflow/compiler/xla/service/service.cc:175]   StreamExecutor device (0): <undefined>, <undefined>\n",
      "2022-11-24 22:56:10.593924: I tensorflow/stream_executor/platform/default/dso_loader.cc:42] Successfully opened dynamic library libcuda.so.1\n",
      "2022-11-24 22:56:10.996104: I tensorflow/compiler/xla/service/service.cc:168] XLA service 0x55d81deee1a0 executing computations on platform CUDA. Devices:\n",
      "2022-11-24 22:56:10.996130: I tensorflow/compiler/xla/service/service.cc:175]   StreamExecutor device (0): Tesla V100-PCIE-32GB, Compute Capability 7.0\n",
      "2022-11-24 22:56:10.996134: I tensorflow/compiler/xla/service/service.cc:175]   StreamExecutor device (1): Tesla V100-PCIE-32GB, Compute Capability 7.0\n",
      "2022-11-24 22:56:10.996137: I tensorflow/compiler/xla/service/service.cc:175]   StreamExecutor device (2): Tesla V100-PCIE-32GB, Compute Capability 7.0\n",
      "2022-11-24 22:56:10.996140: I tensorflow/compiler/xla/service/service.cc:175]   StreamExecutor device (3): Tesla V100-PCIE-32GB, Compute Capability 7.0\n",
      "2022-11-24 22:56:10.997708: I tensorflow/core/common_runtime/gpu/gpu_device.cc:1640] Found device 0 with properties: \n",
      "name: Tesla V100-PCIE-32GB major: 7 minor: 0 memoryClockRate(GHz): 1.38\n",
      "pciBusID: 0000:3d:00.0\n",
      "2022-11-24 22:56:10.998749: I tensorflow/core/common_runtime/gpu/gpu_device.cc:1640] Found device 1 with properties: \n",
      "name: Tesla V100-PCIE-32GB major: 7 minor: 0 memoryClockRate(GHz): 1.38\n",
      "pciBusID: 0000:3e:00.0\n",
      "2022-11-24 22:56:10.999858: I tensorflow/core/common_runtime/gpu/gpu_device.cc:1640] Found device 2 with properties: \n",
      "name: Tesla V100-PCIE-32GB major: 7 minor: 0 memoryClockRate(GHz): 1.38\n",
      "pciBusID: 0000:88:00.0\n",
      "2022-11-24 22:56:11.000859: I tensorflow/core/common_runtime/gpu/gpu_device.cc:1640] Found device 3 with properties: \n",
      "name: Tesla V100-PCIE-32GB major: 7 minor: 0 memoryClockRate(GHz): 1.38\n",
      "pciBusID: 0000:89:00.0\n",
      "2022-11-24 22:56:11.000999: I tensorflow/stream_executor/platform/default/dso_loader.cc:53] Could not dlopen library 'libcudart.so.10.0'; dlerror: libcudart.so.10.0: cannot open shared object file: No such file or directory; LD_LIBRARY_PATH: /usr/local/cuda/lib64:\n",
      "2022-11-24 22:56:11.001054: I tensorflow/stream_executor/platform/default/dso_loader.cc:53] Could not dlopen library 'libcublas.so.10.0'; dlerror: libcublas.so.10.0: cannot open shared object file: No such file or directory; LD_LIBRARY_PATH: /usr/local/cuda/lib64:\n",
      "2022-11-24 22:56:11.001097: I tensorflow/stream_executor/platform/default/dso_loader.cc:53] Could not dlopen library 'libcufft.so.10.0'; dlerror: libcufft.so.10.0: cannot open shared object file: No such file or directory; LD_LIBRARY_PATH: /usr/local/cuda/lib64:\n",
      "2022-11-24 22:56:11.001142: I tensorflow/stream_executor/platform/default/dso_loader.cc:53] Could not dlopen library 'libcurand.so.10.0'; dlerror: libcurand.so.10.0: cannot open shared object file: No such file or directory; LD_LIBRARY_PATH: /usr/local/cuda/lib64:\n",
      "2022-11-24 22:56:11.001184: I tensorflow/stream_executor/platform/default/dso_loader.cc:53] Could not dlopen library 'libcusolver.so.10.0'; dlerror: libcusolver.so.10.0: cannot open shared object file: No such file or directory; LD_LIBRARY_PATH: /usr/local/cuda/lib64:\n",
      "2022-11-24 22:56:11.001224: I tensorflow/stream_executor/platform/default/dso_loader.cc:53] Could not dlopen library 'libcusparse.so.10.0'; dlerror: libcusparse.so.10.0: cannot open shared object file: No such file or directory; LD_LIBRARY_PATH: /usr/local/cuda/lib64:\n",
      "2022-11-24 22:56:11.004961: I tensorflow/stream_executor/platform/default/dso_loader.cc:42] Successfully opened dynamic library libcudnn.so.7\n",
      "2022-11-24 22:56:11.004979: W tensorflow/core/common_runtime/gpu/gpu_device.cc:1663] Cannot dlopen some GPU libraries. Skipping registering GPU devices...\n",
      "2022-11-24 22:56:11.005009: I tensorflow/core/common_runtime/gpu/gpu_device.cc:1181] Device interconnect StreamExecutor with strength 1 edge matrix:\n",
      "2022-11-24 22:56:11.005017: I tensorflow/core/common_runtime/gpu/gpu_device.cc:1187]      0 1 2 3 \n",
      "2022-11-24 22:56:11.005020: I tensorflow/core/common_runtime/gpu/gpu_device.cc:1200] 0:   N Y Y Y \n",
      "2022-11-24 22:56:11.005023: I tensorflow/core/common_runtime/gpu/gpu_device.cc:1200] 1:   Y N Y Y \n",
      "2022-11-24 22:56:11.005026: I tensorflow/core/common_runtime/gpu/gpu_device.cc:1200] 2:   Y Y N Y \n",
      "2022-11-24 22:56:11.005028: I tensorflow/core/common_runtime/gpu/gpu_device.cc:1200] 3:   Y Y Y N \n"
     ]
    },
    {
     "data": {
      "text/plain": [
       "[name: \"/device:CPU:0\"\n",
       " device_type: \"CPU\"\n",
       " memory_limit: 268435456\n",
       " locality {\n",
       " }\n",
       " incarnation: 10969209069911192169,\n",
       " name: \"/device:XLA_CPU:0\"\n",
       " device_type: \"XLA_CPU\"\n",
       " memory_limit: 17179869184\n",
       " locality {\n",
       " }\n",
       " incarnation: 14682883506716362645\n",
       " physical_device_desc: \"device: XLA_CPU device\",\n",
       " name: \"/device:XLA_GPU:0\"\n",
       " device_type: \"XLA_GPU\"\n",
       " memory_limit: 17179869184\n",
       " locality {\n",
       " }\n",
       " incarnation: 12471540187329511063\n",
       " physical_device_desc: \"device: XLA_GPU device\",\n",
       " name: \"/device:XLA_GPU:1\"\n",
       " device_type: \"XLA_GPU\"\n",
       " memory_limit: 17179869184\n",
       " locality {\n",
       " }\n",
       " incarnation: 14505573646950116970\n",
       " physical_device_desc: \"device: XLA_GPU device\",\n",
       " name: \"/device:XLA_GPU:2\"\n",
       " device_type: \"XLA_GPU\"\n",
       " memory_limit: 17179869184\n",
       " locality {\n",
       " }\n",
       " incarnation: 6286641407610453698\n",
       " physical_device_desc: \"device: XLA_GPU device\",\n",
       " name: \"/device:XLA_GPU:3\"\n",
       " device_type: \"XLA_GPU\"\n",
       " memory_limit: 17179869184\n",
       " locality {\n",
       " }\n",
       " incarnation: 17120653940165733188\n",
       " physical_device_desc: \"device: XLA_GPU device\"]"
      ]
     },
     "execution_count": 1,
     "metadata": {},
     "output_type": "execute_result"
    }
   ],
   "source": [
    "#TensorFlowがGPUを認識しているか確認\n",
    "from tensorflow.python.client import device_lib\n",
    "device_lib.list_local_devices()"
   ]
  },
  {
   "cell_type": "code",
   "execution_count": 2,
   "metadata": {},
   "outputs": [
    {
     "name": "stdout",
     "output_type": "stream",
     "text": [
      "WARNING:tensorflow:From /tmp/ipykernel_42062/4266224342.py:2: The name tf.ConfigProto is deprecated. Please use tf.compat.v1.ConfigProto instead.\n",
      "\n",
      "WARNING:tensorflow:From /tmp/ipykernel_42062/4266224342.py:3: The name tf.GPUOptions is deprecated. Please use tf.compat.v1.GPUOptions instead.\n",
      "\n",
      "WARNING:tensorflow:From /tmp/ipykernel_42062/4266224342.py:8: The name tf.Session is deprecated. Please use tf.compat.v1.Session instead.\n",
      "\n"
     ]
    },
    {
     "name": "stderr",
     "output_type": "stream",
     "text": [
      "2022-11-24 22:56:11.021151: I tensorflow/core/common_runtime/gpu/gpu_device.cc:1640] Found device 0 with properties: \n",
      "name: Tesla V100-PCIE-32GB major: 7 minor: 0 memoryClockRate(GHz): 1.38\n",
      "pciBusID: 0000:89:00.0\n",
      "2022-11-24 22:56:11.021346: I tensorflow/stream_executor/platform/default/dso_loader.cc:53] Could not dlopen library 'libcudart.so.10.0'; dlerror: libcudart.so.10.0: cannot open shared object file: No such file or directory; LD_LIBRARY_PATH: /usr/local/cuda/lib64:\n",
      "2022-11-24 22:56:11.021401: I tensorflow/stream_executor/platform/default/dso_loader.cc:53] Could not dlopen library 'libcublas.so.10.0'; dlerror: libcublas.so.10.0: cannot open shared object file: No such file or directory; LD_LIBRARY_PATH: /usr/local/cuda/lib64:\n",
      "2022-11-24 22:56:11.021450: I tensorflow/stream_executor/platform/default/dso_loader.cc:53] Could not dlopen library 'libcufft.so.10.0'; dlerror: libcufft.so.10.0: cannot open shared object file: No such file or directory; LD_LIBRARY_PATH: /usr/local/cuda/lib64:\n",
      "2022-11-24 22:56:11.021498: I tensorflow/stream_executor/platform/default/dso_loader.cc:53] Could not dlopen library 'libcurand.so.10.0'; dlerror: libcurand.so.10.0: cannot open shared object file: No such file or directory; LD_LIBRARY_PATH: /usr/local/cuda/lib64:\n",
      "2022-11-24 22:56:11.021558: I tensorflow/stream_executor/platform/default/dso_loader.cc:53] Could not dlopen library 'libcusolver.so.10.0'; dlerror: libcusolver.so.10.0: cannot open shared object file: No such file or directory; LD_LIBRARY_PATH: /usr/local/cuda/lib64:\n",
      "2022-11-24 22:56:11.021601: I tensorflow/stream_executor/platform/default/dso_loader.cc:53] Could not dlopen library 'libcusparse.so.10.0'; dlerror: libcusparse.so.10.0: cannot open shared object file: No such file or directory; LD_LIBRARY_PATH: /usr/local/cuda/lib64:\n",
      "2022-11-24 22:56:11.021628: I tensorflow/stream_executor/platform/default/dso_loader.cc:42] Successfully opened dynamic library libcudnn.so.7\n",
      "2022-11-24 22:56:11.021632: W tensorflow/core/common_runtime/gpu/gpu_device.cc:1663] Cannot dlopen some GPU libraries. Skipping registering GPU devices...\n",
      "2022-11-24 22:56:11.021644: I tensorflow/core/common_runtime/gpu/gpu_device.cc:1181] Device interconnect StreamExecutor with strength 1 edge matrix:\n",
      "2022-11-24 22:56:11.021656: I tensorflow/core/common_runtime/gpu/gpu_device.cc:1187]      3 \n",
      "2022-11-24 22:56:11.021660: I tensorflow/core/common_runtime/gpu/gpu_device.cc:1200] 3:   N \n"
     ]
    }
   ],
   "source": [
    "import tensorflow as tf\n",
    "config = tf.ConfigProto(\n",
    "    gpu_options=tf.GPUOptions(\n",
    "        visible_device_list=\"3\", # specify GPU number\n",
    "        allow_growth=True\n",
    "    )\n",
    ")\n",
    "sess = tf.Session(config=config)"
   ]
  },
  {
   "cell_type": "markdown",
   "metadata": {},
   "source": [
    "## DQN ~ CNNを使う ~\n",
    "\n",
    "* DQNのキモ?\n",
    "  * Experience Replay: 行動履歴を保存し、さまざまなエピソードから異なる時点の状態を同じミニバッチの学習データに使用する\n",
    "  * Fixed Target Q-Network: 学習最中のモデルから遷移先の価値を計算するのではなく、一定期間固定されたパラメータから算出する\n",
    "  * Clipping: 報酬を全ゲームを通じて、成功を1, 失敗を-1に統一する <- これはおそらく未実装\n",
    "\n",
    "* CNNは6層\n",
    "  * conv:    8×8のフィルタを32枚, ストライド4, paddingは入力画像と出力画像が同じになるように, 活性化関数 ReLU\n",
    "  * conv:    4×4のフィルタを64枚, ストライド2, paddingは入力画像と出力画像が同じになるように, 活性化関数 ReLU\n",
    "  * conv:    3×3のフィルタを64枚, ストライド2`, paddingは入力画像と出力画像が同じになるように, 活性化関数 ReLU\n",
    "  * flatten: 画像の形をしたデータを１列のベクトルにする\n",
    "  * Dense:   出力するベクトルの次元を256次元に, 活性化関数 ReLU\n",
    "  * Dense:   出力するベクトルの次元は行動の数と同じに"
   ]
  },
  {
   "cell_type": "code",
   "execution_count": 3,
   "metadata": {},
   "outputs": [
    {
     "name": "stdout",
     "output_type": "stream",
     "text": [
      "pygame 1.9.6\n",
      "Hello from the pygame community. https://www.pygame.org/contribute.html\n",
      "couldn't import doomish\n",
      "Couldn't import doom\n"
     ]
    }
   ],
   "source": [
    "import random\n",
    "import argparse\n",
    "from collections import deque\n",
    "import numpy as np\n",
    "from tensorflow.python import keras as K\n",
    "from PIL import Image\n",
    "\n",
    "import gym\n",
    "import gym_ple\n",
    "\n",
    "import sys\n",
    "sys.path.append(\"../FN\")\n",
    "from fn_framework import FNAgent, Trainer, Observer\n",
    "\n",
    "import matplotlib.pyplot as plt\n",
    "%matplotlib inline\n",
    "\n",
    "from IPython import display\n",
    "\n",
    "class DeepQNetworkAgent(FNAgent):\n",
    "\n",
    "    def __init__(self, epsilon, actions):\n",
    "        super().__init__(epsilon, actions)\n",
    "        self._scaler = None\n",
    "        self._teacher_model = None\n",
    "\n",
    "    def initialize(self, experiences, optimizer):\n",
    "        \"\"\"モデルの構築\"\"\"\n",
    "        # 入力の形状取得(今回であれば画像のサイズ?)\n",
    "        feature_shape = experiences[0].s.shape\n",
    "        self.make_model(feature_shape)\n",
    "        self.model.compile(optimizer, loss=\"mse\")\n",
    "        self.initialized = True\n",
    "        print(\"Done initialization. From now, begin training!\")\n",
    "\n",
    "    def make_model(self, feature_shape):\n",
    "        \"\"\"モデルの作成\"\"\"\n",
    "        normal = K.initializers.glorot_normal()\n",
    "        model = K.Sequential()\n",
    "        model.add(K.layers.Conv2D(\n",
    "            32, kernel_size=8, strides=4, padding=\"same\",\n",
    "            input_shape=feature_shape, kernel_initializer=normal,\n",
    "            activation=\"relu\"))\n",
    "        model.add(K.layers.Conv2D(\n",
    "            64, kernel_size=4, strides=2, padding=\"same\",\n",
    "            kernel_initializer=normal,\n",
    "            activation=\"relu\"))\n",
    "        model.add(K.layers.Conv2D(\n",
    "            64, kernel_size=3, strides=1, padding=\"same\",\n",
    "            kernel_initializer=normal,\n",
    "            activation=\"relu\"))\n",
    "        model.add(K.layers.Flatten())\n",
    "        model.add(K.layers.Dense(256, kernel_initializer=normal,\n",
    "                                 activation=\"relu\"))\n",
    "        model.add(K.layers.Dense(len(self.actions),\n",
    "                                 kernel_initializer=normal))\n",
    "        self.model = model\n",
    "        # fixedターゲットの実装にあたる部分\n",
    "        self._teacher_model = K.models.clone_model(self.model)\n",
    "\n",
    "    def estimate(self, state):\n",
    "        return self.model.predict(np.array([state]))[0]\n",
    "\n",
    "    def update(self, experiences, gamma):\n",
    "        states = np.array([e.s for e in experiences])\n",
    "        n_states = np.array([e.n_s for e in experiences])\n",
    "\n",
    "        estimateds = self.model.predict(states)\n",
    "        # MLPの時とは違い、一定期間固定されたDQNから計算\n",
    "        # 学習の安定につながる\n",
    "        future = self._teacher_model.predict(n_states)\n",
    "\n",
    "        for i, e in enumerate(experiences):\n",
    "            reward = e.r\n",
    "            if not e.d:\n",
    "                reward += gamma * np.max(future[i])\n",
    "            estimateds[i][e.a] = reward\n",
    "        # 学習の部分、compileでlossがmseに定義されているのでバニラでOK\n",
    "        loss = self.model.train_on_batch(states, estimateds)\n",
    "        return loss\n",
    "    # Teacher Networkの更新\n",
    "    def update_teacher(self):\n",
    "        self._teacher_model.set_weights(self.model.get_weights())\n",
    "\n",
    "    # jupyter labで描画させるためにoverlap\n",
    "    def play(self, env, episode_count=5, render=True):\n",
    "        action_dic = {0: \"neutral\", 1: \"right\", 2: \"left\"}\n",
    "        for e in range(episode_count):\n",
    "            s = env.reset()\n",
    "            done = False\n",
    "            episode_reward = 0\n",
    "            cnt = 0\n",
    "            get_num = 0\n",
    "            play_num = 1\n",
    "            life = 3\n",
    "            while not done:\n",
    "                # 毎回レンダリングすると遅くなるので最初の50回は毎回レンダリングし、その後は50回おきにする\n",
    "                if render and (cnt <= 50):\n",
    "                    env.render()\n",
    "                elif render and (cnt % 50 == 0) and (cnt > 50):\n",
    "                    env.render()\n",
    "                a = self.policy(s)\n",
    "                n_state, reward, done, info = env.step(a)\n",
    "                if reward == 1:\n",
    "                    get_num += 1\n",
    "                if reward != 0:\n",
    "                    play_num += 1\n",
    "                if reward < 0:\n",
    "                    life -= 1\n",
    "                if life > 0:\n",
    "                    plt.title(f\"episode={e}, action={action_dic[a]}, done={done}, frame={cnt} \\n get={get_num}, play={play_num}, life={'*' * life}\")\n",
    "                else:\n",
    "                    plt.title(f\"episode={e}, action={action_dic[a]}, done={done}, frame={cnt} \\n get={get_num}, play={play_num}, Game Over\")\n",
    "                episode_reward += reward\n",
    "                s = n_state\n",
    "                cnt += 1\n",
    "            else:\n",
    "                print(\"Get reward {}.\".format(episode_reward))"
   ]
  },
  {
   "cell_type": "markdown",
   "metadata": {},
   "source": [
    "code 4-16 CartPoleでテストするためのクラス  \n",
    "学習のプロセスが入っているmake_modelは時間がかかるため、それ以外の部分"
   ]
  },
  {
   "cell_type": "code",
   "execution_count": 4,
   "metadata": {},
   "outputs": [],
   "source": [
    "class DeepQNetworkAgentTest(DeepQNetworkAgent):\n",
    "\n",
    "    def __init__(self, epsilon, actions):\n",
    "        super().__init__(epsilon, actions)\n",
    "\n",
    "    def make_model(self, feature_shape):\n",
    "        normal = K.initializers.glorot_normal()\n",
    "        model = K.Sequential()\n",
    "        model.add(K.layers.Dense(64, input_shape=feature_shape, kernel_initializer=normal, activation=\"relu\"))\n",
    "        model.add(K.layers.Dense(len(self.actions), kernel_initializer=normal, activation=\"relu\"))\n",
    "        self.model = model\n",
    "        self._teacher_model = K.models.clone_model(self.model)"
   ]
  },
  {
   "cell_type": "markdown",
   "metadata": {},
   "source": [
    "code 4-17 Observer定義  \n",
    "\n",
    "時系列に並んだ4つの画面フレームを入力とするため、4フレームをまとめる処理を行う"
   ]
  },
  {
   "cell_type": "code",
   "execution_count": 5,
   "metadata": {},
   "outputs": [],
   "source": [
    "class CatcherObserver(Observer):\n",
    "\n",
    "    def __init__(self, env, width, height, frame_count):\n",
    "        super().__init__(env)\n",
    "        self.width = width\n",
    "        self.height = height\n",
    "        self.frame_count = frame_count\n",
    "        self._frames = deque(maxlen=frame_count)\n",
    "\n",
    "    def transform(self, state):\n",
    "        grayed = Image.fromarray(state).convert(\"L\")\n",
    "        resized = grayed.resize((self.width, self.height))\n",
    "        resized = np.array(resized).astype(\"float\")\n",
    "        normalized = resized / 255.0  # scale to 0~1\n",
    "        if len(self._frames) == 0:\n",
    "            for i in range(self.frame_count):\n",
    "                self._frames.append(normalized)\n",
    "        else:\n",
    "            self._frames.append(normalized)\n",
    "        feature = np.array(self._frames)\n",
    "        # Convert the feature shape (f, w, h) => (h, w, f).\n",
    "        feature = np.transpose(feature, (1, 2, 0))\n",
    "\n",
    "        return feature\n",
    "\n",
    "    # jupyter labで描画させるためにoverlap\n",
    "    def render(self):\n",
    "        # self._env.render(mode=\"rgb_array\")\n",
    "        plt.imshow(self._env.render(mode=\"rgb_array\"))\n",
    "        display.display(plt.gcf())\n",
    "        display.clear_output(wait=True)"
   ]
  },
  {
   "cell_type": "markdown",
   "metadata": {},
   "source": [
    "code4-18 Trainerの定義"
   ]
  },
  {
   "cell_type": "code",
   "execution_count": 6,
   "metadata": {},
   "outputs": [],
   "source": [
    "class DeepQNetworkTrainer(Trainer):\n",
    "\n",
    "    def __init__(self, buffer_size=50000, batch_size=32,\n",
    "                 gamma=0.99, initial_epsilon=0.5, final_epsilon=1e-3,\n",
    "                 learning_rate=1e-3, teacher_update_freq=3, report_interval=10,\n",
    "                 log_dir=\"\", file_name=\"\"):\n",
    "        super().__init__(buffer_size, batch_size, gamma,\n",
    "                         report_interval, log_dir)\n",
    "        self.file_name = file_name if file_name else \"dqn_agent.h5\"\n",
    "        self.initial_epsilon = initial_epsilon\n",
    "        self.final_epsilon = final_epsilon\n",
    "        self.learning_rate = learning_rate\n",
    "        self.teacher_update_freq = teacher_update_freq\n",
    "        self.loss = 0\n",
    "        self.training_episode = 0\n",
    "        self._max_reward = -10\n",
    "\n",
    "    def train(self, env, episode_count=1200, initial_count=200,\n",
    "              test_mode=False, render=False, observe_interval=100):\n",
    "        actions = list(range(env.action_space.n))\n",
    "        if not test_mode:\n",
    "            agent = DeepQNetworkAgent(1.0, actions)\n",
    "        else:\n",
    "            agent = DeepQNetworkAgentTest(1.0, actions)\n",
    "            observe_interval = 0\n",
    "        self.training_episode = episode_count\n",
    "\n",
    "        self.train_loop(env, agent, episode_count, initial_count, render,\n",
    "                        observe_interval)\n",
    "        return agent\n",
    "\n",
    "    def episode_begin(self, episode, agent):\n",
    "        self.loss = 0\n",
    "\n",
    "    def begin_train(self, episode, agent):\n",
    "        optimizer = K.optimizers.Adam(lr=self.learning_rate, clipvalue=1.0)\n",
    "        agent.initialize(self.experiences, optimizer)\n",
    "        self.logger.set_model(agent.model)\n",
    "        # epsilonを減衰して、ランダムな行動をしないようにしている\n",
    "        agent.epsilon = self.initial_epsilon\n",
    "        self.training_episode -= episode\n",
    "\n",
    "    def step(self, episode, step_count, agent, experience):\n",
    "        if self.training:\n",
    "            batch = random.sample(self.experiences, self.batch_size)\n",
    "            self.loss += agent.update(batch, self.gamma)\n",
    "\n",
    "    def episode_end(self, episode, step_count, agent):\n",
    "        \"\"\"報酬や誤差(Loss)を記録し、学習途中でモデル保存\"\"\"\n",
    "        reward = sum([e.r for e in self.get_recent(step_count)])\n",
    "        self.loss = self.loss / step_count\n",
    "        self.reward_log.append(reward)\n",
    "        if self.training:\n",
    "            self.logger.write(self.training_count, \"loss\", self.loss)\n",
    "            self.logger.write(self.training_count, \"reward\", reward)\n",
    "            self.logger.write(self.training_count, \"epsilon\", agent.epsilon)\n",
    "            if reward > self._max_reward:\n",
    "                agent.save(self.logger.path_of(self.file_name))\n",
    "                self._max_reward = reward\n",
    "            if self.is_event(self.training_count, self.teacher_update_freq):\n",
    "                agent.update_teacher()\n",
    "\n",
    "            diff = (self.initial_epsilon - self.final_epsilon)\n",
    "            decay = diff / self.training_episode\n",
    "            agent.epsilon = max(agent.epsilon - decay, self.final_epsilon)\n",
    "\n",
    "        if self.is_event(episode, self.report_interval):\n",
    "            recent_rewards = self.reward_log[-self.report_interval:]\n",
    "            self.logger.describe(\"reward\", recent_rewards, episode=episode)"
   ]
  },
  {
   "cell_type": "markdown",
   "metadata": {},
   "source": [
    "code 4-19 実際に学習を行う"
   ]
  },
  {
   "cell_type": "markdown",
   "metadata": {},
   "source": [
    "catcherゲームの定義 ([参考](https://kiyosucyberclub.web.fc2.com/KerasPage09-02.html))\n",
    "* ライフが3与えられる\n",
    "* doneになるのはゲームオーバーになったとき -> 3回ボール落とした時\n",
    "* 報酬\n",
    "    * バーに当たる(ボールをキャッチ): 1点\n",
    "    * 捕まえられない かつ ライフに残りあり: -1\n",
    "    * 捕まえられない かつ ライフがない (ゲームオーバー): -6"
   ]
  },
  {
   "cell_type": "code",
   "execution_count": 7,
   "metadata": {},
   "outputs": [],
   "source": [
    "def main(play, is_test):\n",
    "    file_name = \"dqn_agent.h5\" if not is_test else \"dqn_agent_test.h5\"\n",
    "    trainer = DeepQNetworkTrainer(file_name=file_name)\n",
    "    path = trainer.logger.path_of(trainer.file_name)\n",
    "    agent_class = DeepQNetworkAgent\n",
    "\n",
    "    if is_test:\n",
    "        print(\"Train on test mode\")\n",
    "        obs = gym.make(\"CartPole-v0\")\n",
    "        agent_class = DeepQNetworkAgentTest\n",
    "    else:\n",
    "        env = gym.make(\"Catcher-v0\")\n",
    "        obs = CatcherObserver(env, 80, 80, 4)\n",
    "        trainer.learning_rate = 1e-4\n",
    "\n",
    "    if play:\n",
    "        agent = agent_class.load(obs, path)\n",
    "        agent.play(obs, episode_count=1, render=True)\n",
    "    else:\n",
    "        trainer.train(obs, test_mode=is_test)"
   ]
  },
  {
   "cell_type": "markdown",
   "metadata": {},
   "source": [
    "なんだか右端に待機しすぎでは...？  \n",
    "描画のタイミングとtitleがずれてる?"
   ]
  },
  {
   "cell_type": "code",
   "execution_count": 8,
   "metadata": {
    "tags": []
   },
   "outputs": [
    {
     "name": "stdout",
     "output_type": "stream",
     "text": [
      "Get reward 56.0.\n"
     ]
    },
    {
     "data": {
      "image/png": "[encoded data removed]",
      "text/plain": [
       "<Figure size 640x480 with 1 Axes>"
      ]
     },
     "metadata": {},
     "output_type": "display_data"
    }
   ],
   "source": [
    "parser = argparse.ArgumentParser(description=\"DQN Agent\")\n",
    "parser.add_argument(\"--play\", action=\"store_true\",\n",
    "                    help=\"play with trained model\")\n",
    "parser.add_argument(\"--test\", action=\"store_true\",\n",
    "                    help=\"train by test mode\")\n",
    "\n",
    "args = parser.parse_args(args=[\"--play\"])\n",
    "main(args.play, args.test)"
   ]
  },
  {
   "cell_type": "markdown",
   "metadata": {},
   "source": [
    "なぜreward 56?  \n",
    "reward = 64 * 1 - 1 * 2 - 6 = 56"
   ]
  },
  {
   "cell_type": "code",
   "execution_count": null,
   "metadata": {},
   "outputs": [],
   "source": []
  },
  {
   "cell_type": "code",
   "execution_count": null,
   "metadata": {},
   "outputs": [],
   "source": []
  }
 ],
 "metadata": {
  "interpreter": {
   "hash": "37833f05d300d4440df5731c894ed8626520b175df0a9a96b8ab9ec7da84a4ab"
  },
  "kernelspec": {
   "display_name": "Python 3 (ipykernel)",
   "language": "python",
   "name": "python3"
  },
  "language_info": {
   "codemirror_mode": {
    "name": "ipython",
    "version": 3
   },
   "file_extension": ".py",
   "mimetype": "text/x-python",
   "name": "python",
   "nbconvert_exporter": "python",
   "pygments_lexer": "ipython3",
   "version": "3.7.0"
  }
 },
 "nbformat": 4,
 "nbformat_minor": 4
}
