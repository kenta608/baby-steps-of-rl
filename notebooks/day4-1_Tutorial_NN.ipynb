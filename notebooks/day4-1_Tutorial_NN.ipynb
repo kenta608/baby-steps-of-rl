{
 "cells": [
  {
   "cell_type": "markdown",
   "metadata": {},
   "source": [
    "# Day4 強化学習に対するニューラルネットワークの適用"
   ]
  },
  {
   "cell_type": "markdown",
   "metadata": {},
   "source": [
    "## NNチュートリアル(多層パーセプトロン)"
   ]
  },
  {
   "cell_type": "markdown",
   "metadata": {},
   "source": [
    "code4-1  \n",
    "1層のNNとして  \n",
    "$$\\begin{bmatrix}\n",
    "    y_1 \\\\\n",
    "    y_2 \\\\\n",
    "    y_3 \\\\\n",
    "    y_4 \\\\\n",
    "\\end{bmatrix}=\n",
    "\\begin{bmatrix}\n",
    "    a_{11} & a_{12} \\\\\n",
    "    a_{21} & a_{22} \\\\\n",
    "    a_{31} & a_{32} \\\\\n",
    "    a_{41} & a_{42}\n",
    "\\end{bmatrix}\n",
    "\\begin{bmatrix}\n",
    "    x_1 \\\\\n",
    "    x_2\n",
    "\\end{bmatrix}+\n",
    "\\begin{bmatrix}\n",
    "    b_1 \\\\\n",
    "    b_2 \\\\\n",
    "    b_3 \\\\\n",
    "    b_4\n",
    "\\end{bmatrix}$$\n",
    "を考える\n",
    "* $\\mathbf{a}$: 重み, $\\mathbf{b}$: バイアス\n"
   ]
  },
  {
   "cell_type": "code",
   "execution_count": 2,
   "metadata": {},
   "outputs": [
    {
     "name": "stdout",
     "output_type": "stream",
     "text": [
      "WARNING:tensorflow:From /home/kenta_suzuki/miniconda3/envs/rl-book/lib/python3.6/site-packages/tensorflow/python/ops/init_ops.py:1251: calling VarianceScaling.__init__ (from tensorflow.python.ops.init_ops) with dtype is deprecated and will be removed in a future version.\n",
      "Instructions for updating:\n",
      "Call initializer instance with the dtype argument instead of passing it to the constructor\n",
      "Weight shape is (2, 4)\n",
      "Bias shape is (4,)\n",
      "x is (1, 2) and y is (1, 4)\n"
     ]
    }
   ],
   "source": [
    "import numpy as np\n",
    "from tensorflow.python import keras as K\n",
    "\n",
    "# 1層のNN定義（入力次元が2)\n",
    "# seaquentialは複数層をまとめられる、今は全結合層一つのみ\n",
    "model = K.Sequential([K.layers.Dense(units=4, input_shape=((2, )))])\n",
    "\n",
    "weight, bias = model.layers[0].get_weights()\n",
    "print(f\"Weight shape is {weight.shape}\")\n",
    "print(f\"Bias shape is {bias.shape}\")\n",
    "\n",
    "# 最初の次元はデータ数に使われ、２つ目の次元が実際の行数になる？\n",
    "x = np.random.rand(1, 2)\n",
    "y = model.predict(x)\n",
    "print(f\"x is {x.shape} and y is {y.shape}\")"
   ]
  },
  {
   "cell_type": "markdown",
   "metadata": {},
   "source": [
    "code 4-3 複数データの場合の実装  \n",
    "\n",
    "活性化関数 sigmoid $f(x) = \\frac{1}{1 + e^{-x}}$"
   ]
  },
  {
   "cell_type": "code",
   "execution_count": 13,
   "metadata": {},
   "outputs": [
    {
     "data": {
      "image/png": "[encoded data removed]",
      "text/plain": [
       "<Figure size 432x288 with 1 Axes>"
      ]
     },
     "metadata": {
      "needs_background": "light"
     },
     "output_type": "display_data"
    }
   ],
   "source": [
    "import math\n",
    "import matplotlib.pyplot as plt\n",
    "\n",
    "\n",
    "def sigmoid(x):\n",
    "    return 1 / (1 + math.e**(-x))\n",
    "\n",
    "\n",
    "x = np.linspace(-5, 5, 100)\n",
    "plt.plot(x, sigmoid(x))\n",
    "plt.title(\"sigmoid\")\n",
    "plt.show()"
   ]
  },
  {
   "cell_type": "code",
   "execution_count": 14,
   "metadata": {},
   "outputs": [
    {
     "name": "stdout",
     "output_type": "stream",
     "text": [
      "(3, 4)\n"
     ]
    }
   ],
   "source": [
    "# 2-layer neural network\n",
    "model = K.Sequential([K.layers.Dense(units=4, input_shape=((2, )), activation=\"sigmoid\"), K.layers.Dense(units=4)])\n",
    "\n",
    "# Make Batch size 3 data (dimenstion of x is 2)\n",
    "batch = np.random.rand(3, 2)\n",
    "y = model.predict(batch)\n",
    "\n",
    "print(y.shape)"
   ]
  },
  {
   "cell_type": "markdown",
   "metadata": {},
   "source": [
    "code4-4 ボストン市の住宅価格の予測  \n",
    "【メモ】  \n",
    "softplus = $\\log(\\exp{\\mathbf{x}} + 1)$  \n",
    "ReLUに似てる関数"
   ]
  },
  {
   "cell_type": "code",
   "execution_count": 15,
   "metadata": {},
   "outputs": [
    {
     "data": {
      "image/png": "[encoded data removed]",
      "text/plain": [
       "<Figure size 432x288 with 1 Axes>"
      ]
     },
     "metadata": {
      "needs_background": "light"
     },
     "output_type": "display_data"
    }
   ],
   "source": [
    "from sklearn.model_selection import train_test_split\n",
    "from sklearn.datasets import load_boston\n",
    "import pandas as pd\n",
    "import matplotlib.pyplot as plt\n",
    "\n",
    "# softplus\n",
    "x = np.linspace(-5, 5, 100)\n",
    "y = np.log(np.exp(x) + 1)\n",
    "relu = x * (x > 0)\n",
    "\n",
    "plt.plot(x, y, color=\"blue\", label=\"softplus\")\n",
    "plt.plot(x, relu, color=\"orange\", linestyle=\"dashed\", label=\"ReLU\")\n",
    "plt.title(\"softplus\")\n",
    "plt.legend()\n",
    "plt.show()"
   ]
  },
  {
   "cell_type": "markdown",
   "metadata": {},
   "source": [
    "NNによるボストンの住宅価格の予測  \n",
    "* BatchNormalization: バッチサイズごと・各次元で平均、分散を求めて正規化\n",
    "* regurarize: L1正則化(重みの値を制限, overfitting防止)"
   ]
  },
  {
   "cell_type": "code",
   "execution_count": 16,
   "metadata": {},
   "outputs": [
    {
     "name": "stdout",
     "output_type": "stream",
     "text": [
      "Epoch 1/10\n",
      "339/339 [==============================] - 0s 270us/sample - loss: 190.2779\n",
      "Epoch 2/10\n",
      "339/339 [==============================] - 0s 24us/sample - loss: 39.0535\n",
      "Epoch 3/10\n",
      "339/339 [==============================] - 0s 22us/sample - loss: 28.4098\n",
      "Epoch 4/10\n",
      "339/339 [==============================] - 0s 21us/sample - loss: 34.4625\n",
      "Epoch 5/10\n",
      "339/339 [==============================] - 0s 21us/sample - loss: 29.1285\n",
      "Epoch 6/10\n",
      "339/339 [==============================] - 0s 21us/sample - loss: 35.1510\n",
      "Epoch 7/10\n",
      "339/339 [==============================] - 0s 22us/sample - loss: 23.8120\n",
      "Epoch 8/10\n",
      "339/339 [==============================] - 0s 22us/sample - loss: 19.1239\n",
      "Epoch 9/10\n",
      "339/339 [==============================] - 0s 21us/sample - loss: 24.9463\n",
      "Epoch 10/10\n",
      "339/339 [==============================] - 0s 21us/sample - loss: 17.8758\n"
     ]
    },
    {
     "data": {
      "image/png": "[encoded data removed]",
      "text/plain": [
       "<Figure size 432x288 with 1 Axes>"
      ]
     },
     "metadata": {
      "needs_background": "light"
     },
     "output_type": "display_data"
    }
   ],
   "source": [
    "\n",
    "dataset = load_boston()\n",
    "\n",
    "y = dataset.target\n",
    "x = dataset.data\n",
    "\n",
    "# About train : test = 7 : 3\n",
    "X_train, X_test, y_train, y_test = train_test_split(x, y, test_size=0.33)\n",
    "\n",
    "model = K.Sequential([\n",
    "    K.layers.BatchNormalization(input_shape=(13, )), # 13の特徴量の値全てを[0, 1]に\n",
    "    K.layers.Dense(units=13, activation=\"softplus\", kernel_regularizer=\"l1\"), # softplus, l1正則化\n",
    "    K.layers.Dense(units=1)\n",
    "])\n",
    "\n",
    "model.compile(loss=\"mean_squared_error\", optimizer=\"sgd\")\n",
    "model.fit(X_train, y_train, epochs=10)\n",
    "\n",
    "predicts = model.predict(X_test)\n",
    "result = pd.DataFrame({\n",
    "    \"predict\": np.reshape(predicts, (-1, )),\n",
    "    \"actual\": y_test\n",
    "})\n",
    "limit = np.max(y_test)\n",
    "result.plot.scatter(x=\"actual\", y=\"predict\", xlim=(0, limit), ylim=(0, limit))\n",
    "plt.show()"
   ]
  },
  {
   "cell_type": "markdown",
   "metadata": {},
   "source": [
    "## NNチュートリアル(CNN)"
   ]
  },
  {
   "cell_type": "markdown",
   "metadata": {},
   "source": [
    "code 4-5"
   ]
  },
  {
   "cell_type": "markdown",
   "metadata": {},
   "source": [
    "データの表示"
   ]
  },
  {
   "cell_type": "code",
   "execution_count": 6,
   "metadata": {},
   "outputs": [
    {
     "data": {
      "image/png": "[encoded data removed]",
      "text/plain": [
       "<Figure size 432x288 with 1 Axes>"
      ]
     },
     "metadata": {
      "needs_background": "light"
     },
     "output_type": "display_data"
    }
   ],
   "source": [
    "i = 2\n",
    "predict_label = np.argmax(model.predict(X_test[i].reshape(-1, 8, 8, 1)))\n",
    "predict_proba = np.max(model.predict(X_test[i].reshape(-1, 8, 8, 1)))\n",
    "actual = np.argmax(y_test[i])\n",
    "\n",
    "plt.title(f\"predict = {predict_label} with {predict_proba * 100:.4}%  actual = {actual}\")\n",
    "plt.imshow(X_test[i, :, :, 0])\n",
    "plt.show()"
   ]
  },
  {
   "cell_type": "code",
   "execution_count": 17,
   "metadata": {},
   "outputs": [
    {
     "name": "stdout",
     "output_type": "stream",
     "text": [
      "Epoch 1/8\n",
      "1203/1203 [==============================] - 0s 110us/sample - loss: 2.2750\n",
      "Epoch 2/8\n",
      "1203/1203 [==============================] - 0s 51us/sample - loss: 1.9919\n",
      "Epoch 3/8\n",
      "1203/1203 [==============================] - 0s 48us/sample - loss: 1.5744\n",
      "Epoch 4/8\n",
      "1203/1203 [==============================] - 0s 48us/sample - loss: 1.0097\n",
      "Epoch 5/8\n",
      "1203/1203 [==============================] - 0s 49us/sample - loss: 0.6091\n",
      "Epoch 6/8\n",
      "1203/1203 [==============================] - 0s 48us/sample - loss: 0.4206\n",
      "Epoch 7/8\n",
      "1203/1203 [==============================] - 0s 47us/sample - loss: 0.3208\n",
      "Epoch 8/8\n",
      "1203/1203 [==============================] - 0s 48us/sample - loss: 0.2652\n",
      "              precision    recall  f1-score   support\n",
      "\n",
      "           0       1.00      1.00      1.00        55\n",
      "           1       0.81      0.92      0.86        59\n",
      "           2       0.98      0.94      0.96        49\n",
      "           3       1.00      0.95      0.98        62\n",
      "           4       1.00      0.92      0.96        66\n",
      "           5       0.95      0.94      0.94        64\n",
      "           6       0.94      0.95      0.95        65\n",
      "           7       0.92      1.00      0.96        54\n",
      "           8       0.88      0.85      0.87        61\n",
      "           9       0.91      0.90      0.91        59\n",
      "\n",
      "    accuracy                           0.94       594\n",
      "   macro avg       0.94      0.94      0.94       594\n",
      "weighted avg       0.94      0.94      0.94       594\n",
      "\n"
     ]
    }
   ],
   "source": [
    "import numpy as np\n",
    "from sklearn.model_selection import train_test_split\n",
    "from sklearn.datasets import load_digits\n",
    "from sklearn.metrics import classification_report\n",
    "from tensorflow.python import keras as K\n",
    "\n",
    "\n",
    "dataset = load_digits()\n",
    "image_shape = (8, 8, 1)\n",
    "num_class = 10\n",
    "\n",
    "y = dataset.target\n",
    "y = K.utils.to_categorical(y, num_class)\n",
    "X = dataset.data\n",
    "X = np.array([data.reshape(image_shape) for data in X])\n",
    "\n",
    "X_train, X_test, y_train, y_test = train_test_split(\n",
    "    X, y, test_size=0.33)\n",
    "\n",
    "model = K.Sequential([\n",
    "    K.layers.Conv2D(\n",
    "        5, kernel_size=3, strides=1, padding=\"same\",\n",
    "        input_shape=image_shape, activation=\"relu\"),\n",
    "    K.layers.Conv2D(\n",
    "        3, kernel_size=2, strides=1, padding=\"same\",\n",
    "        activation=\"relu\"),\n",
    "    K.layers.Flatten(),\n",
    "    K.layers.Dense(units=num_class, activation=\"softmax\")\n",
    "])\n",
    "model.compile(loss=\"categorical_crossentropy\", optimizer=\"sgd\")\n",
    "model.fit(X_train, y_train, epochs=8)\n",
    "\n",
    "predicts = model.predict(X_test)\n",
    "predicts = np.argmax(predicts, axis=1)\n",
    "actual = np.argmax(y_test, axis=1)\n",
    "print(classification_report(actual, predicts))"
   ]
  },
  {
   "cell_type": "code",
   "execution_count": null,
   "metadata": {},
   "outputs": [],
   "source": []
  }
 ],
 "metadata": {
  "interpreter": {
   "hash": "37833f05d300d4440df5731c894ed8626520b175df0a9a96b8ab9ec7da84a4ab"
  },
  "kernelspec": {
   "display_name": "Python 3.6.13 ('rl-book')",
   "language": "python",
   "name": "python3"
  },
  "language_info": {
   "codemirror_mode": {
    "name": "ipython",
    "version": 3
   },
   "file_extension": ".py",
   "mimetype": "text/x-python",
   "name": "python",
   "nbconvert_exporter": "python",
   "pygments_lexer": "ipython3",
   "version": "3.6.13"
  },
  "orig_nbformat": 4
 },
 "nbformat": 4,
 "nbformat_minor": 2
}
